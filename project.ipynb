{
 "cells": [
  {
   "cell_type": "markdown",
   "id": "e9648e05",
   "metadata": {},
   "source": [
    "## Data-analysis and processing ##"
   ]
  },
  {
   "cell_type": "code",
   "execution_count": null,
   "id": "76ab01e4",
   "metadata": {},
   "outputs": [],
   "source": []
  },
  {
   "cell_type": "markdown",
   "id": "ee5ef9f02d6a5718",
   "metadata": {},
   "source": [
    "## Model evaluation and interpretation ##"
   ]
  },
  {
   "cell_type": "code",
   "execution_count": null,
   "id": "3bb3c989",
   "metadata": {},
   "outputs": [],
   "source": []
  }
 ],
 "metadata": {
  "kernelspec": {
   "display_name": "Python 3",
   "language": "python",
   "name": "python3"
  },
  "language_info": {
   "codemirror_mode": {
    "name": "ipython",
    "version": 2
   },
   "file_extension": ".py",
   "mimetype": "text/x-python",
   "name": "python",
   "nbconvert_exporter": "python",
   "pygments_lexer": "ipython2",
   "version": "2.7.6"
  }
 },
 "nbformat": 4,
 "nbformat_minor": 5
}
